{
 "cells": [
  {
   "cell_type": "markdown",
   "metadata": {
    "collapsed": true,
    "pycharm": {
     "name": "#%% md\n"
    }
   },
   "source": [
    "# Pràctica 9 - Multi-layer Perceptron\n",
    "\n",
    "En aquesta pràctica es proporcionen dos fitxers de codi amb 2 funcionalitats diferents. El primer genera 4 conjunts de\n",
    "dades 2D diferents, l'altre és un exemple de com poder dibuixar la superfície de classificació.\n",
    "\n",
    "## Feina a fer\n",
    "\n",
    "La feina a fer en aquesta sessió és simular el _playground_ que vàreu visualitzar a la sessió de teoria.\n",
    "En aquest cas durem a terme dos experiments:\n",
    "\n",
    "1. Provar els resultats en la mètrica d'_accuracy_ que s'obtenen en els 4 datasets que es proposen\n",
    "i mostrar la superfície de classificació. Com a mínim s'haurà de provar:\n",
    "\n",
    "    - MLP amb 2 capes.\n",
    "    - MLP amb una capa oculta de 2 neurones.\n",
    "    - MLP amb una capa oculta de 3 neurones.\n",
    "    - MLP amb 2 capes ocultes, triar la configuració.\n",
    "\n",
    "2. De la configuració amb millor resultat provar i visualitzar els canvis que sofreix el classificador si canviam el\n",
    "paràmetre de regularització _alhpa_. Provar valors entre 0.1 i 10."
   ]
  }
 ],
 "metadata": {
  "kernelspec": {
   "display_name": "Python 3",
   "language": "python",
   "name": "python3"
  },
  "language_info": {
   "codemirror_mode": {
    "name": "ipython",
    "version": 2
   },
   "file_extension": ".py",
   "mimetype": "text/x-python",
   "name": "python",
   "nbconvert_exporter": "python",
   "pygments_lexer": "ipython2",
   "version": "2.7.6"
  }
 },
 "nbformat": 4,
 "nbformat_minor": 0
}