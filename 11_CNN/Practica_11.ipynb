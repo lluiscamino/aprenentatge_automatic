{
 "cells": [
  {
   "cell_type": "markdown",
   "metadata": {
    "collapsed": true,
    "pycharm": {
     "name": "#%% md\n"
    }
   },
   "source": [
    "# Convolutional Neural Networks (CNN)\n",
    "\n",
    "La pràctica d'avui ha de servir per consolidar els coneixements que vàrem treballar\n",
    "la darrera sessió i per començar a assimilar els conceptes relacionats amb les CNN.\n",
    "\n",
    "Com a conjunt de dades usarem el _Fashion Mnist_ Zalando Research.\n",
    "\n",
    "## Recordant i ampliant la setmana anterior\n",
    "\n",
    "La primera feina que heu de fer és solucionar el problema que trobareu al fitxer\n",
    "`Fashion_Mnist`. Aquest problema difereix en els que realitzàvem la setmana passada en què les\n",
    "dades d'entrada són imatges de $28x28$ pixels i, a més, hem de classificar entre 10 classes diferents.\n",
    "\n",
    "\n",
    "## La meva primera CNN\n",
    "\n",
    "Un cop tenim aquest problema \"resolt\" (aconseguim obtenir una classificació), passarem a resoldre'l\n",
    "utilitzant una xarxa convolucional. Aquestes xarxes combinen una sèrie de capes convolucionals amb capes\n",
    "anomenades de _max pooling_.\n",
    "\n",
    "### Capa convolucional\n",
    "\n",
    "Anomenada `Conv2D` (tf.keras.layers.Conv2D). Necessita ser parametritzada amb els següents valors:\n",
    "\n",
    "- Nombre de filtres (_filters_): Aquest valor típicament és més gran a més profunditat de la xarxa començant per 32.\n",
    "Típicament aquest valors són potències de 2.\n",
    "- Mida dels filtres (_kernel size_): És una tupla que en les xarxes que nosaltres emprarem té el valor: `(3,3)`\n",
    "- Funció d'activació (_activation_): Normalment usam `ReLu`.\n",
    "- Padding (_padding_): Serveix per no canviar la dimensionalitat de la imatge en passar el filtre. Usarem el valor `same`\n",
    "\n",
    "\n",
    "### Capa Max pooling\n",
    "\n",
    "Aquesta capa anomenada `MaxPooling2D` ens serveix per reduir la mida dels mapes de característiques i en conseqüència\n",
    "reduir el nombre de paràmetres de la xarxa. Només té un paràmetre que és la mida del _pooling_,una tupla de mida: $(2,\n",
    "2)$.\n",
    "\n",
    "### Final de la xarxa\n",
    "\n",
    "Un cop hem extret les característiques de les imatges hem d'afegir un classificador. Aquesta part de la xarxa\n",
    "consta d'una capa que \"aplana\" (ho transforma en un vector) és a dir una capa del tipus `flatten` i de varies capes\n",
    "denses que actuen com a classificador.\n",
    "\n",
    "Segons el problema que volguem resoldre posarem una funció d'activació `sigmoide` o `softmax` o ho deixarem sense funció\n",
    "si el problema que tractem és una regressió.\n",
    "\n",
    "### Feina a fer\n",
    "\n",
    "1. Resoldre el problema usant una xarxa totalment connectada.\n",
    "2. Resoldre el mateix problema dissenyant la vostra primera xarxa convolucional.\n",
    "3. Intentar obtenir el millor resultat possible amb ambdues solucions tot cercant minimitzar el nombre de paràmetres\n",
    " a entrenar."
   ]
  }
 ],
 "metadata": {
  "kernelspec": {
   "display_name": "Python 3",
   "language": "python",
   "name": "python3"
  },
  "language_info": {
   "codemirror_mode": {
    "name": "ipython",
    "version": 2
   },
   "file_extension": ".py",
   "mimetype": "text/x-python",
   "name": "python",
   "nbconvert_exporter": "python",
   "pygments_lexer": "ipython2",
   "version": "2.7.6"
  }
 },
 "nbformat": 4,
 "nbformat_minor": 0
}