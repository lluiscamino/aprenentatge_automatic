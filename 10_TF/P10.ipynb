{
  "nbformat": 4,
  "nbformat_minor": 0,
  "metadata": {
    "colab": {
      "name": "P10.ipynb",
      "provenance": [],
      "collapsed_sections": []
    },
    "kernelspec": {
      "name": "python3",
      "display_name": "Python 3"
    },
    "language_info": {
      "name": "python"
    }
  },
  "cells": [
    {
      "cell_type": "markdown",
      "metadata": {
        "id": "Xr15yoPLDt2G"
      },
      "source": [
        "# De Scikit a Tensorflow\n",
        "\n",
        "L'objectiu d'aquest quadern és realitzar la transició entre el Multi-Layer perceptron de Scikit amb el qual vàrem treballar la setmana passada i la llibreria  TensorFlow.\n",
        "\n",
        "Avui treballarem amb xarxes on totes les neurones de cada capa es troben connectades amb les neurones de la capa següent, tal com està dissenyada la classe MLP de Scikit. \n",
        "\n",
        "Començarem usant els mateixos conjunts de dades de la darrera sessió i intentarem reproduïr resultats similars."
      ]
    },
    {
      "cell_type": "code",
      "metadata": {
        "id": "jAQ_HE9GDR1p"
      },
      "source": [
        "# Llibreries \n",
        "import numpy as np\n",
        "import matplotlib.pyplot as plt\n",
        "from sklearn.datasets import make_moons, make_circles, make_classification\n",
        "\n",
        "from sklearn.model_selection import train_test_split\n",
        "from sklearn.preprocessing import StandardScaler\n",
        "\n",
        "# TensorFlow\n",
        "import tensorflow as tf\n",
        "from tensorflow import keras\n"
      ],
      "execution_count": 1,
      "outputs": []
    },
    {
      "cell_type": "markdown",
      "metadata": {
        "id": "Ei4aOWu1Dvxj"
      },
      "source": [
        "## Dades\n",
        "\n",
        "\n",
        "Generació dels conjunts de dades ja coneguts, en aquest cas tendrem conjunts de dades amb 300 mostres."
      ]
    },
    {
      "cell_type": "code",
      "metadata": {
        "id": "a1Kq80EnDzEx"
      },
      "source": [
        "# Construïm 4 conjunts de dades per classificar:\n",
        "# En primer lloc un conjunt linealment separable on afegim renou\n",
        "X, y = make_classification(n_samples=300, n_features=2, n_redundant=0, n_informative=2, random_state=33, n_clusters_per_class=1)\n",
        "rng = np.random.RandomState(2)\n",
        "X += 2 * rng.uniform(size=X.shape)\n",
        "linearly_separable = (X, y)\n",
        "\n",
        "# En segon lloc un que segueix una distribució xor\n",
        "X_xor = np.random.randn(300, 2)\n",
        "y_xor = np.logical_xor(X_xor[:, 0] > 0,\n",
        "                       X_xor[:, 1] > 0)\n",
        "y_xor = np.where(y_xor, 1, 0)\n",
        "\n",
        "# Els afegim a una llista juntament amb els seus noms per tal de poder iterar\n",
        "# sobre ells\n",
        "datasets = [\n",
        "    (\"linear\", linearly_separable),\n",
        "    (\"moons\", make_moons(n_samples=300, noise=0.3, random_state=30)),  # Tercer dataset\n",
        "    (\"circles\", make_circles(n_samples=300, noise=0.2, factor=0.5, random_state=30)),  # Darrer dataset\n",
        "    (\"xor\", (X_xor, y_xor))]"
      ],
      "execution_count": 2,
      "outputs": []
    },
    {
      "cell_type": "markdown",
      "metadata": {
        "id": "MnGyanaVEUzJ"
      },
      "source": [
        "## Model\n",
        "\n",
        "Tensorflow ens permet definir l'arquitectura de les xarxes de dues maneres, en aquest cas emprarem l'entorn seqüencial. Deixarem l'entorn funcional per a futures pràctiques. \n",
        "\n",
        "Especificam les diferents capes com a part d'un objecte de la classe model.\n",
        "\n",
        "Les capes que emprarem es diuen denses `Dense` ([enllaç a la documentació](https://www.tensorflow.org/api_docs/python/tf/keras/layers/Dense)). \n",
        "\n",
        "Emprarem 2 paràmetres:\n",
        " - El nombre de neurones.\n",
        " - La funció d'activació.\n",
        "\n"
      ]
    },
    {
      "cell_type": "code",
      "metadata": {
        "id": "qkErmG5MEVfR"
      },
      "source": [
        "model = tf.keras.Sequential([\n",
        "    tf.keras.layers.Input((2)),\n",
        "    tf.keras.layers.Dense(3, activation='relu'),\n",
        "    tf.keras.layers.Dense(1, activation='sigmoid')\n",
        "])"
      ],
      "execution_count": 3,
      "outputs": []
    },
    {
      "cell_type": "code",
      "metadata": {
        "id": "8kAuNUU8jgWl"
      },
      "source": [
        "# En alguns tutorials veureu la definició de la xarxa així:\n",
        "#model = tf.keras.Sequential()\n",
        "#model.add(tf.keras.layers.Input((2)))\n",
        "#model.add(tf.keras.layers.Dense(5, activation='relu'))\n",
        "#model.add(tf.keras.layers.Dense(1, activation='sigmoid'))\n"
      ],
      "execution_count": 4,
      "outputs": []
    },
    {
      "cell_type": "markdown",
      "metadata": {
        "id": "RZ9pHXerQ6kk"
      },
      "source": [
        "## Compilar el model\n",
        "\n",
        "El model que em definit necessita ser compilat, en aquesta passa es defineix l'algorisme d'optimització, la funció de pèrdua i les mètriques sobre les quals volem obtenir resultats.\n",
        "\n",
        "Funcions de pèrdua:\n",
        "- Documentació [funcions de perdua](https://www.tensorflow.org/api_docs/python/tf/keras/losses?version=nightly)\n",
        "\n",
        "- Petit [tutorial](https://www.analyticsvidhya.com/blog/2021/05/guide-for-loss-function-in-tensorflow/)"
      ]
    },
    {
      "cell_type": "code",
      "metadata": {
        "id": "brBBfogaQ8Fh"
      },
      "source": [
        "model.compile(optimizer='adam', # també podria ser el descens de gradient tradicional\n",
        "              loss=tf.keras.losses.BinaryCrossentropy(from_logits=True),\n",
        "              metrics=['accuracy'])"
      ],
      "execution_count": 5,
      "outputs": []
    },
    {
      "cell_type": "code",
      "metadata": {
        "id": "U-WNhuSnsx5Y",
        "colab": {
          "base_uri": "https://localhost:8080/"
        },
        "outputId": "1c181f44-f869-428d-8a73-93441b8f16d8"
      },
      "source": [
        "# Ens proporciona un resum de com és la nostra xarxa, fixau-vos en el nombre de\n",
        "# paràmetres\n",
        "model.summary()"
      ],
      "execution_count": 6,
      "outputs": [
        {
          "output_type": "stream",
          "name": "stdout",
          "text": [
            "Model: \"sequential\"\n",
            "_________________________________________________________________\n",
            " Layer (type)                Output Shape              Param #   \n",
            "=================================================================\n",
            " dense (Dense)               (None, 3)                 9         \n",
            "                                                                 \n",
            " dense_1 (Dense)             (None, 1)                 4         \n",
            "                                                                 \n",
            "=================================================================\n",
            "Total params: 13\n",
            "Trainable params: 13\n",
            "Non-trainable params: 0\n",
            "_________________________________________________________________\n"
          ]
        }
      ]
    },
    {
      "cell_type": "markdown",
      "metadata": {
        "id": "lcUbd6J6WWIt"
      },
      "source": [
        "## Entrenament\n",
        "\n",
        "El procés d'entrenament és molt similar a qualsevol altre mètode d'aprenentatge automàtic. Podem observar 2 diferències:\n",
        "\n",
        "- Hem d'explicitar el nombre d'èpoques (nombre d'iteracions de l'entrenament).\n",
        "- Podem aportar un conjunt de dades d'avaluació per tenir una estimació de la bondat del nostre model al final de cada època.\n",
        "\n",
        "Finalment veureu que la funció fit ens proporciona un diccionari (variable `history`), emprarem les dades guardades en ell per poder dibuixar els gràfics de resum l'entrenament."
      ]
    },
    {
      "cell_type": "code",
      "metadata": {
        "id": "jeh5DPDDG6_j"
      },
      "source": [
        "# En primer lloc preparam les dades\n",
        "\n",
        "X, y = datasets[1][1]\n",
        "\n",
        "X = StandardScaler().fit_transform(X)\n",
        "X_train, X_test, y_train, y_test = train_test_split(X, y, test_size=0.3, random_state=33)"
      ],
      "execution_count": 7,
      "outputs": []
    },
    {
      "cell_type": "code",
      "metadata": {
        "id": "_CnouABWG3D2",
        "colab": {
          "base_uri": "https://localhost:8080/"
        },
        "outputId": "4cbd65f9-59c8-44cf-852c-bd40c7755cb5"
      },
      "source": [
        "# En segon lloc entrenam:\n",
        "# - Proporcionam les dades d'entrenament i de validació\n",
        "# - Definim el nombre d'iteracions\n",
        "# - Es pot definir el tamany del batch (batch_size)\n",
        "history = model.fit(X_train, y_train, validation_data=(X_test, y_test), epochs=30)\n",
        "test_loss, test_acc = model.evaluate(X_test, y_test, verbose=2)\n",
        "\n",
        "print('\\nTest accuracy:', test_acc)"
      ],
      "execution_count": 8,
      "outputs": [
        {
          "output_type": "stream",
          "name": "stdout",
          "text": [
            "Epoch 1/30\n"
          ]
        },
        {
          "output_type": "stream",
          "name": "stderr",
          "text": [
            "/usr/local/lib/python3.7/dist-packages/tensorflow/python/util/dispatch.py:1096: UserWarning: \"`binary_crossentropy` received `from_logits=True`, but the `output` argument was produced by a sigmoid or softmax activation and thus does not represent logits. Was this intended?\"\n",
            "  return dispatch_target(*args, **kwargs)\n"
          ]
        },
        {
          "output_type": "stream",
          "name": "stdout",
          "text": [
            "7/7 [==============================] - 1s 31ms/step - loss: 0.7232 - accuracy: 0.5619 - val_loss: 0.7113 - val_accuracy: 0.6000\n",
            "Epoch 2/30\n",
            "7/7 [==============================] - 0s 6ms/step - loss: 0.7190 - accuracy: 0.5714 - val_loss: 0.7073 - val_accuracy: 0.6111\n",
            "Epoch 3/30\n",
            "7/7 [==============================] - 0s 5ms/step - loss: 0.7146 - accuracy: 0.5762 - val_loss: 0.7037 - val_accuracy: 0.6111\n",
            "Epoch 4/30\n",
            "7/7 [==============================] - 0s 5ms/step - loss: 0.7105 - accuracy: 0.5762 - val_loss: 0.7002 - val_accuracy: 0.6000\n",
            "Epoch 5/30\n",
            "7/7 [==============================] - 0s 6ms/step - loss: 0.7067 - accuracy: 0.5810 - val_loss: 0.6968 - val_accuracy: 0.6000\n",
            "Epoch 6/30\n",
            "7/7 [==============================] - 0s 5ms/step - loss: 0.7028 - accuracy: 0.5857 - val_loss: 0.6936 - val_accuracy: 0.6000\n",
            "Epoch 7/30\n",
            "7/7 [==============================] - 0s 6ms/step - loss: 0.6994 - accuracy: 0.5905 - val_loss: 0.6905 - val_accuracy: 0.5889\n",
            "Epoch 8/30\n",
            "7/7 [==============================] - 0s 5ms/step - loss: 0.6955 - accuracy: 0.5905 - val_loss: 0.6875 - val_accuracy: 0.5889\n",
            "Epoch 9/30\n",
            "7/7 [==============================] - 0s 5ms/step - loss: 0.6919 - accuracy: 0.5952 - val_loss: 0.6846 - val_accuracy: 0.6000\n",
            "Epoch 10/30\n",
            "7/7 [==============================] - 0s 5ms/step - loss: 0.6885 - accuracy: 0.5952 - val_loss: 0.6817 - val_accuracy: 0.5889\n",
            "Epoch 11/30\n",
            "7/7 [==============================] - 0s 5ms/step - loss: 0.6853 - accuracy: 0.6143 - val_loss: 0.6788 - val_accuracy: 0.5778\n",
            "Epoch 12/30\n",
            "7/7 [==============================] - 0s 9ms/step - loss: 0.6821 - accuracy: 0.6190 - val_loss: 0.6763 - val_accuracy: 0.5778\n",
            "Epoch 13/30\n",
            "7/7 [==============================] - 0s 5ms/step - loss: 0.6789 - accuracy: 0.6286 - val_loss: 0.6739 - val_accuracy: 0.5778\n",
            "Epoch 14/30\n",
            "7/7 [==============================] - 0s 7ms/step - loss: 0.6761 - accuracy: 0.6286 - val_loss: 0.6713 - val_accuracy: 0.5778\n",
            "Epoch 15/30\n",
            "7/7 [==============================] - 0s 6ms/step - loss: 0.6731 - accuracy: 0.6381 - val_loss: 0.6689 - val_accuracy: 0.5889\n",
            "Epoch 16/30\n",
            "7/7 [==============================] - 0s 9ms/step - loss: 0.6702 - accuracy: 0.6429 - val_loss: 0.6665 - val_accuracy: 0.5889\n",
            "Epoch 17/30\n",
            "7/7 [==============================] - 0s 6ms/step - loss: 0.6675 - accuracy: 0.6476 - val_loss: 0.6642 - val_accuracy: 0.6000\n",
            "Epoch 18/30\n",
            "7/7 [==============================] - 0s 5ms/step - loss: 0.6646 - accuracy: 0.6524 - val_loss: 0.6619 - val_accuracy: 0.6000\n",
            "Epoch 19/30\n",
            "7/7 [==============================] - 0s 5ms/step - loss: 0.6617 - accuracy: 0.6619 - val_loss: 0.6597 - val_accuracy: 0.6111\n",
            "Epoch 20/30\n",
            "7/7 [==============================] - 0s 6ms/step - loss: 0.6591 - accuracy: 0.6619 - val_loss: 0.6575 - val_accuracy: 0.6111\n",
            "Epoch 21/30\n",
            "7/7 [==============================] - 0s 6ms/step - loss: 0.6565 - accuracy: 0.6714 - val_loss: 0.6555 - val_accuracy: 0.6444\n",
            "Epoch 22/30\n",
            "7/7 [==============================] - 0s 6ms/step - loss: 0.6537 - accuracy: 0.6857 - val_loss: 0.6533 - val_accuracy: 0.6667\n",
            "Epoch 23/30\n",
            "7/7 [==============================] - 0s 5ms/step - loss: 0.6511 - accuracy: 0.6952 - val_loss: 0.6512 - val_accuracy: 0.6778\n",
            "Epoch 24/30\n",
            "7/7 [==============================] - 0s 5ms/step - loss: 0.6484 - accuracy: 0.6952 - val_loss: 0.6489 - val_accuracy: 0.6778\n",
            "Epoch 25/30\n",
            "7/7 [==============================] - 0s 5ms/step - loss: 0.6458 - accuracy: 0.7095 - val_loss: 0.6467 - val_accuracy: 0.6889\n",
            "Epoch 26/30\n",
            "7/7 [==============================] - 0s 5ms/step - loss: 0.6432 - accuracy: 0.7048 - val_loss: 0.6443 - val_accuracy: 0.7000\n",
            "Epoch 27/30\n",
            "7/7 [==============================] - 0s 6ms/step - loss: 0.6405 - accuracy: 0.7143 - val_loss: 0.6421 - val_accuracy: 0.7000\n",
            "Epoch 28/30\n",
            "7/7 [==============================] - 0s 6ms/step - loss: 0.6379 - accuracy: 0.7143 - val_loss: 0.6399 - val_accuracy: 0.7000\n",
            "Epoch 29/30\n",
            "7/7 [==============================] - 0s 6ms/step - loss: 0.6353 - accuracy: 0.7143 - val_loss: 0.6377 - val_accuracy: 0.7111\n",
            "Epoch 30/30\n",
            "7/7 [==============================] - 0s 6ms/step - loss: 0.6327 - accuracy: 0.7095 - val_loss: 0.6354 - val_accuracy: 0.7111\n",
            "3/3 - 0s - loss: 0.6354 - accuracy: 0.7111 - 18ms/epoch - 6ms/step\n",
            "\n",
            "Test accuracy: 0.7111111283302307\n"
          ]
        }
      ]
    },
    {
      "cell_type": "code",
      "metadata": {
        "id": "8Dswl5kmWUA-",
        "colab": {
          "base_uri": "https://localhost:8080/",
          "height": 297
        },
        "outputId": "1baf707f-6e16-4aa7-f001-2c0555913a42"
      },
      "source": [
        "# (history.history.keys())\n",
        "\n",
        "# Mostram els resultats de l'entrenament de manera gràfica\n",
        "figure, ax = plt.subplots(nrows=1, ncols=2)\n",
        "\n",
        "ax[0].plot(history.history['accuracy'])\n",
        "ax[0].plot(history.history['val_accuracy'])\n",
        "\n",
        "ax[0].set_title('model accuracy')\n",
        "ax[0].set_ylabel('accuracy')\n",
        "ax[0].set_xlabel('epoch')\n",
        "#ax[0].set_ylim(0,1)\n",
        "ax[0].legend(['train', 'test'], loc='upper left')\n",
        "\n",
        "# summarize history for loss\n",
        "ax[1].plot(history.history['loss'])\n",
        "ax[1].plot(history.history['val_loss'])\n",
        "#ax[1].set_ylim(0,1)\n",
        "ax[1].set_title('model loss')\n",
        "ax[1].set_ylabel('loss')\n",
        "ax[1].set_xlabel('epoch')\n",
        "ax[1].legend(['train', 'test'], loc='upper right')\n",
        "figure.tight_layout()\n",
        "plt.show()"
      ],
      "execution_count": 9,
      "outputs": [
        {
          "output_type": "display_data",
          "data": {
            "image/png": "[encoded data removed]",
            "text/plain": [
              "<Figure size 432x288 with 2 Axes>"
            ]
          },
          "metadata": {
            "needs_background": "light"
          }
        }
      ]
    },
    {
      "cell_type": "markdown",
      "metadata": {
        "id": "MqJXZphQSDVa"
      },
      "source": [
        "## Predicció"
      ]
    },
    {
      "cell_type": "code",
      "metadata": {
        "id": "r6WeCRvnnk8d",
        "colab": {
          "base_uri": "https://localhost:8080/"
        },
        "outputId": "94515f0f-e98f-4af8-c7e0-e01a4d4a4c1b"
      },
      "source": [
        "result = model.predict(X)\n",
        "clf_result = np.copy(result)\n",
        "\n",
        "clf_result[clf_result < 0.5] = 0\n",
        "clf_result[clf_result >= 0.5] = 1\n",
        "\n",
        "print(result)"
      ],
      "execution_count": 10,
      "outputs": [
        {
          "output_type": "stream",
          "name": "stdout",
          "text": [
            "[[0.4657627 ]\n",
            " [0.4897735 ]\n",
            " [0.4693722 ]\n",
            " [0.4647717 ]\n",
            " [0.59531283]\n",
            " [0.4647717 ]\n",
            " [0.526408  ]\n",
            " [0.46888447]\n",
            " [0.608244  ]\n",
            " [0.72217953]\n",
            " [0.4647717 ]\n",
            " [0.48067772]\n",
            " [0.4647717 ]\n",
            " [0.80592   ]\n",
            " [0.67305094]\n",
            " [0.4647717 ]\n",
            " [0.6552469 ]\n",
            " [0.4647717 ]\n",
            " [0.5745568 ]\n",
            " [0.8162005 ]\n",
            " [0.73211884]\n",
            " [0.6108599 ]\n",
            " [0.6419237 ]\n",
            " [0.4832667 ]\n",
            " [0.4653    ]\n",
            " [0.4835499 ]\n",
            " [0.4647717 ]\n",
            " [0.5455084 ]\n",
            " [0.72814137]\n",
            " [0.4647717 ]\n",
            " [0.4817552 ]\n",
            " [0.4647717 ]\n",
            " [0.5091377 ]\n",
            " [0.46788865]\n",
            " [0.7126322 ]\n",
            " [0.477092  ]\n",
            " [0.7435995 ]\n",
            " [0.46706828]\n",
            " [0.48210114]\n",
            " [0.48048097]\n",
            " [0.485653  ]\n",
            " [0.48526472]\n",
            " [0.4647717 ]\n",
            " [0.4708103 ]\n",
            " [0.66049504]\n",
            " [0.4647717 ]\n",
            " [0.48598754]\n",
            " [0.48009714]\n",
            " [0.67151076]\n",
            " [0.7197061 ]\n",
            " [0.4647717 ]\n",
            " [0.7497126 ]\n",
            " [0.68770903]\n",
            " [0.4677979 ]\n",
            " [0.5797122 ]\n",
            " [0.46950707]\n",
            " [0.59692866]\n",
            " [0.4647717 ]\n",
            " [0.708519  ]\n",
            " [0.4647717 ]\n",
            " [0.46579245]\n",
            " [0.4647717 ]\n",
            " [0.512929  ]\n",
            " [0.47072718]\n",
            " [0.46544042]\n",
            " [0.53223014]\n",
            " [0.69990647]\n",
            " [0.6398239 ]\n",
            " [0.4647717 ]\n",
            " [0.48114336]\n",
            " [0.47953147]\n",
            " [0.48032716]\n",
            " [0.7279371 ]\n",
            " [0.58228815]\n",
            " [0.66121215]\n",
            " [0.4647717 ]\n",
            " [0.49104595]\n",
            " [0.76607037]\n",
            " [0.5444561 ]\n",
            " [0.8519336 ]\n",
            " [0.4647717 ]\n",
            " [0.742978  ]\n",
            " [0.4647717 ]\n",
            " [0.66521883]\n",
            " [0.7034618 ]\n",
            " [0.4647717 ]\n",
            " [0.4647717 ]\n",
            " [0.4755922 ]\n",
            " [0.48659766]\n",
            " [0.7104128 ]\n",
            " [0.46842468]\n",
            " [0.548211  ]\n",
            " [0.4647717 ]\n",
            " [0.4647717 ]\n",
            " [0.48640358]\n",
            " [0.52820134]\n",
            " [0.69206345]\n",
            " [0.5616046 ]\n",
            " [0.5431643 ]\n",
            " [0.4689036 ]\n",
            " [0.62630343]\n",
            " [0.5944115 ]\n",
            " [0.4647717 ]\n",
            " [0.58736783]\n",
            " [0.6285206 ]\n",
            " [0.4647717 ]\n",
            " [0.550546  ]\n",
            " [0.58335704]\n",
            " [0.73824346]\n",
            " [0.5668121 ]\n",
            " [0.6519427 ]\n",
            " [0.69411105]\n",
            " [0.6261733 ]\n",
            " [0.67799795]\n",
            " [0.46822238]\n",
            " [0.4649359 ]\n",
            " [0.47125107]\n",
            " [0.7476535 ]\n",
            " [0.4729752 ]\n",
            " [0.46569213]\n",
            " [0.5265825 ]\n",
            " [0.62508607]\n",
            " [0.49850842]\n",
            " [0.48917708]\n",
            " [0.6937475 ]\n",
            " [0.6917584 ]\n",
            " [0.4647717 ]\n",
            " [0.7991146 ]\n",
            " [0.63137215]\n",
            " [0.5482988 ]\n",
            " [0.5714826 ]\n",
            " [0.6512763 ]\n",
            " [0.54383004]\n",
            " [0.69465303]\n",
            " [0.4652795 ]\n",
            " [0.4647717 ]\n",
            " [0.6558159 ]\n",
            " [0.47980595]\n",
            " [0.4647717 ]\n",
            " [0.69805694]\n",
            " [0.48828405]\n",
            " [0.48187554]\n",
            " [0.46536487]\n",
            " [0.64783376]\n",
            " [0.60569733]\n",
            " [0.49292442]\n",
            " [0.72956014]\n",
            " [0.55873585]\n",
            " [0.6166121 ]\n",
            " [0.61478883]\n",
            " [0.48410353]\n",
            " [0.48691976]\n",
            " [0.6670315 ]\n",
            " [0.61140573]\n",
            " [0.6110624 ]\n",
            " [0.47268498]\n",
            " [0.70138276]\n",
            " [0.48526105]\n",
            " [0.60936046]\n",
            " [0.4647717 ]\n",
            " [0.4647717 ]\n",
            " [0.65482944]\n",
            " [0.46514645]\n",
            " [0.7074913 ]\n",
            " [0.734105  ]\n",
            " [0.49681833]\n",
            " [0.5510097 ]\n",
            " [0.4647717 ]\n",
            " [0.4663819 ]\n",
            " [0.4647717 ]\n",
            " [0.6825201 ]\n",
            " [0.4735909 ]\n",
            " [0.4647717 ]\n",
            " [0.4647717 ]\n",
            " [0.4647717 ]\n",
            " [0.47287056]\n",
            " [0.4647717 ]\n",
            " [0.46955225]\n",
            " [0.4647717 ]\n",
            " [0.639214  ]\n",
            " [0.55425954]\n",
            " [0.4647717 ]\n",
            " [0.4647717 ]\n",
            " [0.47120604]\n",
            " [0.5024521 ]\n",
            " [0.51793593]\n",
            " [0.48375118]\n",
            " [0.6488264 ]\n",
            " [0.47139114]\n",
            " [0.69443583]\n",
            " [0.4647717 ]\n",
            " [0.48375562]\n",
            " [0.4647717 ]\n",
            " [0.69139105]\n",
            " [0.76078796]\n",
            " [0.5857181 ]\n",
            " [0.8401248 ]\n",
            " [0.69459784]\n",
            " [0.4647717 ]\n",
            " [0.5080781 ]\n",
            " [0.4647717 ]\n",
            " [0.4647717 ]\n",
            " [0.6454238 ]\n",
            " [0.6170842 ]\n",
            " [0.48158142]\n",
            " [0.47622395]\n",
            " [0.49976134]\n",
            " [0.5427152 ]\n",
            " [0.48565167]\n",
            " [0.57357943]\n",
            " [0.8160231 ]\n",
            " [0.6658474 ]\n",
            " [0.6319066 ]\n",
            " [0.4804294 ]\n",
            " [0.55821425]\n",
            " [0.4838533 ]\n",
            " [0.46846268]\n",
            " [0.6748841 ]\n",
            " [0.46995163]\n",
            " [0.709132  ]\n",
            " [0.5213705 ]\n",
            " [0.50967944]\n",
            " [0.8074527 ]\n",
            " [0.4647717 ]\n",
            " [0.4857898 ]\n",
            " [0.4837161 ]\n",
            " [0.49724525]\n",
            " [0.4647717 ]\n",
            " [0.4647717 ]\n",
            " [0.4647717 ]\n",
            " [0.74777526]\n",
            " [0.4647717 ]\n",
            " [0.4862305 ]\n",
            " [0.4801095 ]\n",
            " [0.46589282]\n",
            " [0.5517717 ]\n",
            " [0.5823126 ]\n",
            " [0.6215887 ]\n",
            " [0.48115504]\n",
            " [0.4749792 ]\n",
            " [0.47211128]\n",
            " [0.7804986 ]\n",
            " [0.46609855]\n",
            " [0.47366297]\n",
            " [0.49280757]\n",
            " [0.4647717 ]\n",
            " [0.46951908]\n",
            " [0.4647717 ]\n",
            " [0.4671012 ]\n",
            " [0.59071386]\n",
            " [0.73710525]\n",
            " [0.6266254 ]\n",
            " [0.4647717 ]\n",
            " [0.4647717 ]\n",
            " [0.6197405 ]\n",
            " [0.65695244]\n",
            " [0.48514038]\n",
            " [0.48673055]\n",
            " [0.46764812]\n",
            " [0.4647717 ]\n",
            " [0.4647717 ]\n",
            " [0.5562778 ]\n",
            " [0.5699392 ]\n",
            " [0.70925945]\n",
            " [0.48350063]\n",
            " [0.48729736]\n",
            " [0.48319924]\n",
            " [0.4647717 ]\n",
            " [0.51413816]\n",
            " [0.48280126]\n",
            " [0.64902717]\n",
            " [0.57887006]\n",
            " [0.6966982 ]\n",
            " [0.5695529 ]\n",
            " [0.47046116]\n",
            " [0.4691157 ]\n",
            " [0.5623859 ]\n",
            " [0.5225099 ]\n",
            " [0.4769558 ]\n",
            " [0.46556205]\n",
            " [0.47031274]\n",
            " [0.51109046]\n",
            " [0.47798783]\n",
            " [0.48485586]\n",
            " [0.48740202]\n",
            " [0.4647717 ]\n",
            " [0.46993488]\n",
            " [0.48138288]\n",
            " [0.4647717 ]\n",
            " [0.6567148 ]\n",
            " [0.47560132]\n",
            " [0.47071645]\n",
            " [0.64851147]\n",
            " [0.59146273]\n",
            " [0.54686534]\n",
            " [0.48957312]\n",
            " [0.506695  ]\n",
            " [0.67993957]\n",
            " [0.5650678 ]\n",
            " [0.49127233]]\n"
          ]
        }
      ]
    },
    {
      "cell_type": "code",
      "metadata": {
        "colab": {
          "base_uri": "https://localhost:8080/",
          "height": 312
        },
        "id": "915PXZQc3Jkx",
        "outputId": "10129dd8-6fd8-4dfc-8f87-5ed5ed783381"
      },
      "source": [
        "from sklearn.metrics import roc_curve, roc_auc_score, f1_score\n",
        "\n",
        "fpr, tpr, _ = roc_curve(y, result)\n",
        "auc = roc_auc_score(y, result)\n",
        "print(\"AUC score:\\t\", auc)\n",
        "plt.plot(fpr, tpr, label=\"Support Vector Machine\")\n",
        "plt.plot([0, 1], [0, 1], label=\"Random classifier\", linestyle=\"--\")\n",
        "plt.legend(loc=4)\n",
        "plt.xlabel(\"False positive rate\")\n",
        "plt.ylabel(\"True positive rate\")\n",
        "plt.title(\"ROC curve\")\n",
        "plt.show()"
      ],
      "execution_count": 11,
      "outputs": [
        {
          "output_type": "stream",
          "name": "stdout",
          "text": [
            "AUC score:\t 0.8050444444444445\n"
          ]
        },
        {
          "output_type": "display_data",
          "data": {
            "image/png": "[encoded data removed]",
            "text/plain": [
              "<Figure size 432x288 with 1 Axes>"
            ]
          },
          "metadata": {
            "needs_background": "light"
          }
        }
      ]
    }
  ]
}