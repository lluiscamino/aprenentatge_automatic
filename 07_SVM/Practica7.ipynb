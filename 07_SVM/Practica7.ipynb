{
 "cells": [
  {
   "cell_type": "markdown",
   "metadata": {
    "collapsed": true,
    "pycharm": {
     "name": "#%% md\n"
    }
   },
   "source": [
    "# Pràctica 7 - Un exemple amb SVM\n",
    "\n",
    "## Curva ROC\n",
    "\n",
    "**Receiver operator characteristic** (ROC) és un gràfic que pot ser útil per seleccionar models\n",
    "de classificació basant-nos en la relació que existeix entre les ratios de falsos positius i verdaders\n",
    "positius. El calcul d'aquesta corva es realitza canviant el llindar del classificador.\n",
    "\n",
    "El ROC sempre mostra la diagonal, que s'interpreta com un classificador que actua de manera aleatòria.\n",
    "Els models que es troben sota la diagonal es consideren pitjors que un classificador aleatori. En canvi,\n",
    "trobarem el classificador perfecte en l'extrem superior esquerra, ja que té un ratio de verdaders\n",
    "positius d'1 i un ratio de falsos positius de 0.\n",
    "\n",
    "A partir d'aquesta corba, es pot computar l'**area sota la corba (AUC)** que caracteritza el\n",
    "rendiment general del model.\n",
    "\n",
    "<img src=\"imatges/roc_curve.svg\" alt=\"roc_curve\" width=\"600\"/>\n",
    "\n",
    "\n",
    "\n",
    "### Implementació\n",
    "\n",
    "Per poder calcular la corba ROC necessitam que la sortida del nostre classificador no sigui l'etiqueta\n",
    "de la classe sino una probabilitat de pertinença. Les SVM són del primer tipus de classificador, però implementen\n",
    "el mètode `predict_proba` que ens retorna la probabilitat de ser de la classe 1. Per més informació\n",
    "podeu consultat el següent [enllaç](https://scikit-learn.org/stable/modules/svm.html#scores-and-probabilities).\n",
    "\n",
    "La corba ROC es pot emprar amb la següent classe: [roc_curve](https://scikit-learn.org/stable/modules/generated/sklearn.metrics.roc_curve.html?highlight=roc%20curve#sklearn.metrics.roc_curve)\n",
    "El valor AUC es pot emprar amb el següent mètode: [roc_auc_score](https://scikit-learn.org/stable/modules/generated/sklearn.metrics.roc_auc_score.html#sklearn.metrics.roc_auc_score)\n",
    "\n",
    "## Conjunt de dades\n",
    "\n",
    "Els **púlsars** són un tipus rar d'estrelles de neutrons que produeixen emissions de ràdio detectables aquí a la Terra.\n",
    "Tenen un interès científic considerable com a proves de l'espai-temps, el medi interestel·lar i els estats de la\n",
    "matèria. En particular, s'estan adoptant algorismes de classificació, que tracten els conjunts de dades com a\n",
    "problemes de classificació binaris. Aquí els exemples púlsars legítims formen la classe positiva minoritària i els\n",
    "exemples espuris formen la classe negativa majoritària.\n",
    "\n",
    "Descarrega de les dades: [enllaç](https://www.kaggle.com/colearninglounge/predicting-pulsar-starintermediate)\n",
    "\n",
    "\n",
    "## Feina a fer\n",
    "\n",
    "1. Resol aquest problema amb una SVM, i un *kernel* lineal. Usa la classe SVC de scikit.\n",
    "2. Intenta obtenir els millors resultats possibles.\n",
    "3. Dibuixa la corba ROC i calcula la AUC. És coherent amb els resultats obtinguts?\n"
   ]
  },
  {
   "cell_type": "markdown",
   "source": [
    "### Tasca final\n",
    "\n",
    "Com ja hem comentat aquest curs, tan important és conèixer les dades i\n",
    "entrenar el model com justificar les decisions que es prenen i explicar els resultats\n",
    "obtinguts.\n",
    "\n",
    "En el següent [enllaç](https://www.kaggle.com/prashant111/svm-classifier-tutorial) teniu\n",
    "un exemple de documentació molt complet que cal tenir en compte.\n",
    "\n"
   ],
   "metadata": {
    "collapsed": false,
    "pycharm": {
     "name": "#%% md\n"
    }
   }
  }
 ],
 "metadata": {
  "kernelspec": {
   "display_name": "Python 3",
   "language": "python",
   "name": "python3"
  },
  "language_info": {
   "codemirror_mode": {
    "name": "ipython",
    "version": 2
   },
   "file_extension": ".py",
   "mimetype": "text/x-python",
   "name": "python",
   "nbconvert_exporter": "python",
   "pygments_lexer": "ipython2",
   "version": "2.7.6"
  }
 },
 "nbformat": 4,
 "nbformat_minor": 0
}