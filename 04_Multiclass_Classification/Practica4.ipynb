{
 "cells": [
  {
   "cell_type": "markdown",
   "metadata": {
    "collapsed": true,
    "pycharm": {
     "name": "#%% md\n"
    }
   },
   "source": [
    "# Pràctica 4 - Que passa si tenim més de 2 classes?\n",
    "\n",
    "Fins ara hem treballat amb problemes de classificació de conjunts que tenien 2 classes i que\n",
    "estaven generats de manera artificial. En aquesta pràctica començarem a treballar amb conjunts de\n",
    "dades reals que a més tenen més d'una classe\n",
    "\n",
    "## Les dades\n",
    "\n",
    "El conjunt de dades amb el que treballarem consta d’imatges de dígits (del 0 al 9) amb una resolució de 8x8 píxels en\n",
    "escala de grisos. Tenim el conjunt de dades etiquetat, per cada una de les imatges tenim la seva classe."
   ]
  },
  {
   "cell_type": "code",
   "execution_count": 3,
   "outputs": [
    {
     "data": {
      "text/plain": "<Figure size 720x216 with 4 Axes>",
      "image/png": "[encoded data removed]"
     },
     "metadata": {
      "needs_background": "light"
     },
     "output_type": "display_data"
    }
   ],
   "source": [
    "import matplotlib.pyplot as plt\n",
    "from sklearn import datasets\n",
    "\n",
    "digits = datasets.load_digits()\n",
    "\n",
    "_, axes = plt.subplots(nrows=1, ncols=4, figsize=(10, 3))\n",
    "for ax, image, label in zip(axes, digits.images, digits.target):\n",
    "    ax.set_axis_off()\n",
    "    ax.imshow(image, cmap=plt.cm.gray_r, interpolation='nearest')\n",
    "    ax.set_title('Mostra del valor: %i' % label)\n",
    "\n",
    "plt.show()"
   ],
   "metadata": {
    "collapsed": false,
    "pycharm": {
     "name": "#%%\n"
    }
   }
  },
  {
   "cell_type": "markdown",
   "source": [
    "**Accés a les dades**\n",
    "\n",
    "En la variable `digits` tenim dos atributs: un anomenat `images` on es guarden les dades del conjunt de dades i un\n",
    "altre anomenat `target` on tenim les seves classes.\n",
    "\n",
    "Podem accedir a la informació de la següent manera:"
   ],
   "metadata": {
    "collapsed": false,
    "pycharm": {
     "name": "#%% md\n"
    }
   }
  },
  {
   "cell_type": "code",
   "execution_count": 4,
   "outputs": [
    {
     "name": "stdout",
     "output_type": "stream",
     "text": [
      "<class 'sklearn.utils.Bunch'>\n",
      "[[ 0.  0.  5. 13.  9.  1.  0.  0.]\n",
      " [ 0.  0. 13. 15. 10. 15.  5.  0.]\n",
      " [ 0.  3. 15.  2.  0. 11.  8.  0.]\n",
      " [ 0.  4. 12.  0.  0.  8.  8.  0.]\n",
      " [ 0.  5.  8.  0.  0.  9.  8.  0.]\n",
      " [ 0.  4. 11.  0.  1. 12.  7.  0.]\n",
      " [ 0.  2. 14.  5. 10. 12.  0.  0.]\n",
      " [ 0.  0.  6. 13. 10.  0.  0.  0.]] 0\n"
     ]
    }
   ],
   "source": [
    "\n",
    "mostra = digits.images[0] # accedim a la primera mostra del conjunt de dades\n",
    "classe = digits.target[0]\n",
    "\n",
    "print(mostra, classe)"
   ],
   "metadata": {
    "collapsed": false,
    "pycharm": {
     "name": "#%%\n"
    }
   }
  },
  {
   "cell_type": "markdown",
   "source": [
    "**Preprocessament**\n",
    "\n",
    "Els classificadors que empram esperen que cada mostra del conjunt de dades estigui en forma de fila i en aquest\n",
    "_dataset_ els tenim en forma de matriu. Podem usar la funció `reshape` de la llibreria numpy ens ajudarà a solucionar\n",
    "aquest problema.\n",
    "\n",
    "## Mètriques\n",
    "\n",
    "Tant la matriu de confusió com les mètriques que usam en els problemes amb dues classes es poden usar per avaluar el\n",
    "rendiment dels nostres algorismes en el cas de problemes com el que estam tractant en aquesta pràctica.\n",
    "\n",
    "El mètode [classification_report](https://scikit-learn.org/stable/modules/generated/sklearn.metrics.classification_report.html#sklearn.metrics.classification_report) ` del mòdul `metrics` crea un informe de text que mostra les mètriques de\n",
    "classificació principals per cada una de les classes, i les agrupa calculant la seva mitjana.\n",
    "\n"
   ],
   "metadata": {
    "collapsed": false,
    "pycharm": {
     "name": "#%% md\n"
    }
   }
  },
  {
   "cell_type": "markdown",
   "source": [
    "## Feina a fer\n",
    "1. Canvia l'estructura del conjunt de dades per obtenir una matriu amb la següent estructura: (n_mostres, 64).\n",
    "2. Divideix el conjunt de dades: un 70% per a entrenar i un 30% per a fer test.\n",
    "3. Entrena un regressor logístic.\n",
    "4. Mostra la matriu de confusió pel conjunt de test. Quines classes es confonen més?\n",
    "5. Mostra les mètriques pel conjunt d'entrenament i també pel conjunt de test. Són similars?\n",
    "6. Si canvies el conjunt d'entrenament (pots fer-ho canviant la llavor del mètode de separació de conjunts). Obtenim\n",
    "resultats similars?"
   ],
   "metadata": {
    "collapsed": false
   }
  }
 ],
 "metadata": {
  "kernelspec": {
   "display_name": "Python 3",
   "language": "python",
   "name": "python3"
  },
  "language_info": {
   "codemirror_mode": {
    "name": "ipython",
    "version": 2
   },
   "file_extension": ".py",
   "mimetype": "text/x-python",
   "name": "python",
   "nbconvert_exporter": "python",
   "pygments_lexer": "ipython2",
   "version": "2.7.6"
  }
 },
 "nbformat": 4,
 "nbformat_minor": 0
}