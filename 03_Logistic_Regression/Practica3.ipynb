{
 "cells": [
  {
   "cell_type": "markdown",
   "metadata": {
    "collapsed": true,
    "pycharm": {
     "name": "#%% md\n"
    }
   },
   "source": [
    "# Pràctica 3 - El fluxe del procés d'aprenentatge\n",
    "\n",
    "El procés d'aplicar tècniques d'aprenentatge automàtic consta\n",
    "de més passes que la de triar i aplicar el classificador o regressor.\n",
    "És un procés que consta de cinc parts:\n",
    "\n",
    "- Tractament de les dades: preparació del conjunt de dades, selecció de característiques, **obtenció dels conjunts\n",
    "d'entrenament / test**.\n",
    "\n",
    "- **Selecció de la / les mètriques adients**.\n",
    "\n",
    "- Selecció del classificador / regresor.\n",
    "\n",
    "- **Avaluació del model**.\n",
    "\n",
    "- Ajustament del model.\n",
    "\n",
    "\n"
   ]
  },
  {
   "cell_type": "markdown",
   "source": [
    "## Separació del conjunt de dades\n",
    "\n",
    "Per tal de saber com funciona l'algorisme necessitarem dividir el nostre conjunt de dades en diverses parts disjuntes.\n",
    "Típicament usarem el bloc més gran (entre el 60% i el 80%) per entrenar el nostre algorisme d'aprenentatge i la resta\n",
    "per poder provar que l'algorisme prèviament entrenat funciona bé per dades noves, és a dir, que té la capacitat de\n",
    "**generalitzar** allò que ha après. Aquest darrer conjunt es coneix amb el nom de *test*. Evitarem biaixos en els dos\n",
    "conjunts fent aquesta divisió de manera aleatòria. És important no emprar el conjunt de test fins que no tenim el\n",
    "model entrenat i ajustat, aquest conjunt només ha de servir per avaluar el model final.\n",
    "\n",
    "\n",
    "La llibreria _scikit-learn_ té una funció que ens pot ser molt pràctica per fer aquesta feina:\n",
    "[train_test_split](https://scikit-learn.org/stable/modules/generated/sklearn.model_selection.train_test_split.html?highlight=train_test#sklearn.model_selection.train_test_split)\n",
    "\n",
    "A continuació en podeu veure un exemple:\n",
    "\n",
    "```\n",
    "import numpy as np\n",
    "from sklearn.model_selection import train_test_split\n",
    "X, y = np.arange(10).reshape((5, 2)), range(5)\n",
    "\n",
    "X_train, X_test, y_train, y_test = train_test_split(X, y, test_size=0.20, random_state=33)\n",
    "```"
   ],
   "metadata": {
    "collapsed": false,
    "pycharm": {
     "name": "#%% md\n"
    }
   }
  },
  {
   "cell_type": "markdown",
   "source": [
    "## Mètriques\n",
    "\n",
    "Un cop entrenat el nostre model, tenim la necessitat d'avaluar els resultats obtinguts amb aquest amb alguna\n",
    "mesura que sigui objectiva. Les mesures que explicarem en aquesta secció es calculen a partir d'una matriu de\n",
    "confusió que ens permet guardar quatre mesures bàsiques a partir de considerar que una de les classes és la positiva\n",
    "i l'altra és la negativa.\n",
    "\n",
    "- _True Positives_ (TP): L'algorisme classifica una mostra de la classe positiva com a membre de la classe\n",
    "positiva.\n",
    "- _True Negatives_ (TN): L'algorisme classifica una mostra de la classe negativa com a membre de la classe\n",
    "negativa.\n",
    "- _False Positives_ (FP): L'algorisme classifica una mostra de la classe negativa com a membre de la classe\n",
    "positiva.\n",
    "- _False Negatives_ (FN): L'algorisme classifica una mostra de la classe positiva com a membre de la classe\n",
    "negativa.\n",
    "\n",
    "Podem observar la matriu de confusió en el següent esquema:\n",
    "\n",
    "![image](imatges/02_minimitzacio.png \"font: Python Machine Learning\")\n",
    "\n",
    "Aquesta matriu es pot obtenir de manera senzilla usant la funció `confusion_matrix` de la llibreria [scikit-learn](https://scikit-learn.org/stable/modules/generated/sklearn.metrics.confusion_matrix.html?highlight=confusion%20matrix#sklearn-metrics-confusion-matrix)\n",
    "i es pot visualitzar amb la funció [ConfusionMatrixDisplay](https://scikit-learn.org/stable/modules/generated/sklearn.metrics.ConfusionMatrixDisplay.html?highlight=confusion%20matrix#sklearn-metrics-confusionmatrixdisplay)\n",
    "\n",
    "A partir d'aquestes mesures de primer ordre en podem treure d'altres més completes:\n",
    "\n",
    "$$ Error = \\frac{FP+FN}{FP+FN+TP+TN}$$\n",
    "<br>\n",
    "$$ Exactitut = \\frac{TP+TN}{FP+FN+TP+TN} = 1 - Error$$, també es coneix com\n",
    "_Accuracy_.\n",
    "\n",
    "Per altra banda tenim les mesures Rati de Vertaders Positius (True Positive Rate, TPR) i el Rati de Falsos Positius\n",
    "(False Positive Rate, FPR) que estan dissenyades per problemes on hi ha una classe amb més mostres que l'altra:\n",
    "\n",
    "$$ FPR = \\frac{FP}{N} = \\frac{FP}{FP + TN} $$\n",
    "<br>\n",
    "$$ TPR = \\frac{TP}{P} = \\frac{TP}{FN+TP} $$\n",
    "\n",
    "Finalment parlarem de precisió (_precision_) i la sensibilitat (_recall_) relacionades amb els ratis de vertaders\n",
    "positius i vertaders negatius:\n",
    "\n",
    "$$ Precisio = \\frac{TP}{TP+FP}$$\n",
    "<br>\n",
    "$$Sensibilitat = TPR = \\frac{TP}{FN+TP} $$\n",
    "\n",
    "Tenim una mesura que engloba aquestes mesures anteriors:\n",
    "\n",
    "$$ F1 = 2 \\frac{Precisio \\times Sensibilitat}{Precisio + Sensibilitat}$$\n",
    "\n",
    "Per sort tenim un modul anomenat _metrics_ on hi ha totes aquestes (i d'altres) mètriques ja implementades.\n"
   ],
   "metadata": {
    "collapsed": false
   }
  },
  {
   "cell_type": "markdown",
   "source": [
    "## Un exemple complet\n",
    "\n",
    "A continuació teniu un exemple que resumeix el procés sencer emprant la llibreria `Scikit-learn`:"
   ],
   "metadata": {
    "collapsed": false
   }
  },
  {
   "cell_type": "code",
   "execution_count": 1,
   "outputs": [
    {
     "name": "stdout",
     "output_type": "stream",
     "text": [
      "[[114   3]\n",
      " [  1  82]]\n",
      "Accuracy:  0.98\n"
     ]
    }
   ],
   "source": [
    "from sklearn.datasets import make_classification\n",
    "from sklearn.model_selection import train_test_split\n",
    "from sklearn.linear_model import SGDClassifier\n",
    "from sklearn.preprocessing import StandardScaler\n",
    "from sklearn.metrics import confusion_matrix\n",
    "from sklearn.metrics import accuracy_score\n",
    "\n",
    "X, y = make_classification(n_samples=1000, n_features=2, n_redundant=0, n_repeated=0,\n",
    "                           n_classes=2, n_clusters_per_class=1, class_sep=2,\n",
    "                           random_state=5)\n",
    "\n",
    "# Tractament de les dades: Separació i estandaritzat\n",
    "X_train, X_test, y_train, y_test = train_test_split(X, y, test_size=0.20, random_state=1)\n",
    "\n",
    "scaler = StandardScaler()\n",
    "X_train_scaled = scaler.fit_transform(X_train)\n",
    "X_test_scaled = scaler.transform(X_test)\n",
    "# Entrenament i predicció\n",
    "clf = SGDClassifier(loss=\"perceptron\", eta0=1, max_iter=1000, learning_rate=\"constant\", random_state=5)\n",
    "clf.fit(X_train_scaled, y_train)\n",
    "prediction = clf.predict(X_test_scaled)\n",
    "\n",
    "# Avaluació\n",
    "cf_matrix = confusion_matrix(y_test, prediction)\n",
    "print(cf_matrix)\n",
    "accuracy = accuracy_score(y_test, prediction)\n",
    "print(\"Accuracy: \", accuracy)\n"
   ],
   "metadata": {
    "collapsed": false,
    "pycharm": {
     "name": "#%%\n"
    }
   }
  },
  {
   "cell_type": "markdown",
   "source": [
    "## Feina a fer\n",
    "\n",
    "1. Dibuixar la recta de separació de l'exemple anterior.\n",
    "2. Calcula la mètrica F1 usant la matriu de confusió de l'exemple. Compara-la amb l'obtinguda amb la funció de Scikit.\n",
    "3. Repetir el procés anterior substituint el Perceptron per la Regressió Logística de Scikit. (No és necessari\n",
    "calcular F1 a ma).\n",
    "4. Compara els resultats obtinguts dels dos mètodes.\n",
    "\n",
    "**Extra**: dibuixa la recta de decisió de cada mètode en el mateix gràfic, per comparar el resultat obtingut.\n",
    "\n"
   ],
   "metadata": {
    "collapsed": false
   }
  }
 ],
 "metadata": {
  "kernelspec": {
   "display_name": "Python 3",
   "language": "python",
   "name": "python3"
  },
  "language_info": {
   "codemirror_mode": {
    "name": "ipython",
    "version": 2
   },
   "file_extension": ".py",
   "mimetype": "text/x-python",
   "name": "python",
   "nbconvert_exporter": "python",
   "pygments_lexer": "ipython2",
   "version": "2.7.6"
  }
 },
 "nbformat": 4,
 "nbformat_minor": 0
}