{
  "cells": [
    {
      "cell_type": "markdown",
      "metadata": {
        "id": "S2GitVz6ZC05"
      },
      "source": [
        "# Cats vs Dogs CNN\n",
        "\n",
        "Realitzar una xarxa neuronal convolucional per el següent conjunt de dades.\n",
        "Aquest nou conjunt de dades difereix del conjunt `Fashion Mnist` en que no es troba preparat per a funcionar.\n",
        "\n",
        "### Llibreries necessaries\n",
        "\n",
        "Veurem que a més de les llibreries habituals també importem la llibreria `tensorflow_datasets` que conté el nostre conjunt de dades."
      ]
    },
    {
      "cell_type": "code",
      "execution_count": null,
      "metadata": {
        "colab": {
          "base_uri": "https://localhost:8080/"
        },
        "id": "LrI2eowlOWQO",
        "outputId": "697d355b-cad0-4c24-8629-35ebf11d5949"
      },
      "outputs": [
        {
          "name": "stdout",
          "output_type": "stream",
          "text": [
            "2.7.0\n"
          ]
        }
      ],
      "source": [
        "# TensorFlow and tf.keras\n",
        "import tensorflow as tf\n",
        "import tensorflow_datasets as tfds\n",
        "# Altres llibreries\n",
        "import numpy as np\n",
        "import matplotlib.pyplot as plt\n",
        "\n",
        "print(tf.__version__)"
      ]
    },
    {
      "cell_type": "markdown",
      "metadata": {
        "id": "I3k2lU8JRPs6"
      },
      "source": [
        "## Cárrega de dades\n",
        "\n",
        "Carregam les dades, a l'hora que les baixam també definim els conjunts de validació i test. \n",
        "\n",
        "En segon lloc redimensionam les imatges i cream _batch_ de mida 32, es a dir que contenen 32 imatges."
      ]
    },
    {
      "cell_type": "code",
      "execution_count": null,
      "metadata": {
        "id": "8WIvrduBRI3K"
      },
      "outputs": [],
      "source": [
        "# Descarregam el conjunt de dades ja divit\n",
        "train_ds, validation_ds, test_ds = tfds.load(\n",
        "    \"cats_vs_dogs\",\n",
        "    # Reserve 10% for validation and 10% for test\n",
        "    split=[\"train[:40%]\", \"train[40%:50%]\", \"train[50%:60%]\"],\n",
        "    as_supervised=True,  # Incluim les etiquetes\n",
        ")"
      ]
    },
    {
      "cell_type": "code",
      "execution_count": null,
      "metadata": {
        "id": "c2MSRbyxZ9Uy"
      },
      "outputs": [],
      "source": [
        "img_size = (150, 150) # Definim la mida de les nostres imatges, les reescalam totes a aquesta mida\n",
        "train_ds = train_ds.map(lambda x, y: (tf.image.resize(x, img_size), y))\n",
        "# Cream els batchs\n",
        "train_ds = train_ds.cache().batch(32).prefetch(buffer_size=10)\n",
        "\n",
        "validation_ds = validation_ds.map(lambda x, y: (tf.image.resize(x, img_size), y))\n",
        "validation_ds = validation_ds.cache().batch(1).prefetch(buffer_size=10)"
      ]
    },
    {
      "cell_type": "markdown",
      "metadata": {
        "id": "w3ML2vdttzUK"
      },
      "source": [
        "Mostram alguns exemples del conjunt d'entrenament, és important saber com son les dades que emprarem i com a mínim hem de fer una petita exploració:"
      ]
    },
    {
      "cell_type": "code",
      "execution_count": null,
      "metadata": {
        "id": "pgRGMrzAqL-K"
      },
      "outputs": [],
      "source": [
        "it = train_ds.as_numpy_iterator()\n",
        "img_batch = next(it)\n",
        "\n",
        "n_images = 8\n",
        "figure = plt.figure(figsize=(9, 9))\n",
        "for i in range(n_images):\n",
        "\n",
        "  ax = plt.subplot(n_images/2, n_images//2, i + 1)\n",
        "  ax.set_xticks(())\n",
        "  ax.set_yticks(())\n",
        "  ax.imshow(img_batch[0][i,:,:]/255)"
      ]
    },
    {
      "cell_type": "markdown",
      "metadata": {
        "id": "MTAw52f5Y4nX"
      },
      "source": [
        "## Definició del model"
      ]
    },
    {
      "cell_type": "code",
      "execution_count": null,
      "metadata": {
        "id": "KCqWRzllY7WS"
      },
      "outputs": [],
      "source": [
        ""
      ]
    },
    {
      "cell_type": "code",
      "execution_count": null,
      "metadata": {
        "id": "mwsjITd1Y-0X"
      },
      "outputs": [],
      "source": [
        "model.summary()"
      ]
    },
    {
      "cell_type": "markdown",
      "metadata": {
        "id": "nzMMyUiRnXEO"
      },
      "source": [
        "## Compilar el model"
      ]
    },
    {
      "cell_type": "code",
      "execution_count": null,
      "metadata": {
        "id": "m8v0BOlcZBGR"
      },
      "outputs": [],
      "source": [
        ""
      ]
    },
    {
      "cell_type": "code",
      "execution_count": null,
      "metadata": {
        "colab": {
          "background_save": true
        },
        "id": "bD03YzLPZGDX"
      },
      "outputs": [],
      "source": [
        "history = model.fit(train_ds, epochs=10, validation_data=(validation_ds))"
      ]
    },
    {
      "cell_type": "code",
      "execution_count": null,
      "metadata": {
        "colab": {
          "background_save": true
        },
        "id": "zZ95acjUZJTD"
      },
      "outputs": [],
      "source": [
        "# Mostrar les gràfiques d'entrenament\n",
        "# (history.history.keys())\n",
        "\n",
        "# Mostram els resultats de l'entrenament de manera gràfica\n",
        "figure, ax = plt.subplots(nrows=1, ncols=2)\n",
        "\n",
        "ax[0].plot(history.history['accuracy'])\n",
        "ax[0].plot(history.history['val_accuracy'])\n",
        "\n",
        "ax[0].set_title('model accuracy')\n",
        "ax[0].set_ylabel('accuracy')\n",
        "ax[0].set_xlabel('epoch')\n",
        "#ax[0].set_ylim(0,1)\n",
        "ax[0].legend(['train', 'test'], loc='upper left')\n",
        "\n",
        "# summarize history for loss\n",
        "ax[1].plot(history.history['loss'])\n",
        "ax[1].plot(history.history['val_loss'])\n",
        "#ax[1].set_ylim(0,1)\n",
        "ax[1].set_title('model loss')\n",
        "ax[1].set_ylabel('loss')\n",
        "ax[1].set_xlabel('epoch')\n",
        "ax[1].legend(['train', 'test'], loc='upper right')\n",
        "figure.tight_layout()\n",
        "plt.show()"
      ]
    },
    {
      "cell_type": "markdown",
      "metadata": {
        "id": "eK3QHC6fngQn"
      },
      "source": [
        "## Proves finals\n",
        "\n",
        "Intentar classificar imatges del conjunt de test"
      ]
    },
    {
      "cell_type": "code",
      "execution_count": null,
      "metadata": {
        "colab": {
          "background_save": true
        },
        "id": "pjMK20hSLRng"
      },
      "outputs": [],
      "source": [
        "it_test = validation_ds.as_numpy_iterator()\n",
        "\n",
        "\n",
        "n_images = 8\n",
        "figure = plt.figure(figsize=(9, 9))\n",
        "\n",
        "for i in range(n_images):\n",
        "\n",
        "  img_batch = next(it_test)\n",
        "  ax = plt.subplot(n_images/2, n_images//2, i + 1)\n",
        "  ax.imshow(img_batch[0][0,:,:,:]/255)\n",
        "  ax.set_xticks(())\n",
        "  ax.set_yticks(())\n",
        "  ax.set_title( \"Class:\" +  str(img_batch[1][0]) + \" Predict: \" + str(int(model.predict(img_batch[0]))))"
      ]
    }
  ],
  "metadata": {
    "accelerator": "GPU",
    "colab": {
      "name": "Gat_i_gos_CNN_Classe.ipynb",
      "provenance": []
    },
    "kernelspec": {
      "display_name": "Python 3",
      "name": "python3"
    },
    "language_info": {
      "name": "python"
    }
  },
  "nbformat": 4,
  "nbformat_minor": 0
}