{
 "cells": [
  {
   "cell_type": "markdown",
   "metadata": {
    "collapsed": true,
    "pycharm": {
     "name": "#%% md\n"
    }
   },
   "source": [
    "# Convolutional Neural Networks (CNN)\n",
    "\n",
    "La pràctica que vàrem realitzar amb el conjunt de dades de `Fashion Mnist` ha estat útil\n",
    "per familiaritzar-nos amb les xarxes convolucionals i observar com funcionen. Tot i això hem\n",
    "d'entendre que en entorns reals les condicions dels conjunts de dades no són tan ideals com amb\n",
    "les que hem treballat en la pràctica anterior.\n",
    "\n",
    "\n",
    "## Cans i moixos\n",
    "\n",
    "Un dels problemes bàsics de classificació en imatges és el de diferenciar imatges on apareixen\n",
    "cans d'imatges on apareixen moixos, evidentment ho farem mitjançant l'ús d'una xarxa convolucional.\n",
    "\n",
    "**Feina a fer:**\n",
    "\n",
    "Dissenyar i entrenar una xarxa convolucional per classificar imatges de cans i moixos. Al repositori de\n",
    "la pràctica d'aquesta setmana teniu el fitxer `Gat i gos classe` on trobareu el codi necessari\n",
    "per descarregar el conjunt de dades.\n",
    "\n",
    "## _Transfer learning_\n",
    "\n",
    "Sembla que haver de dissenyar i entrenar una xarxa cada cop que volem resoldre un problema és\n",
    "poc útil. La idea del _transfer learning_ és que si un model s'entrena en un conjunt de dades prou gran i general,\n",
    "aquest model servirà efectivament com a model genèric del món visual. A continuació, podeu aprofitar aquests mapes\n",
    "de característiques apreses sense haver de començar des de zero entrenant un model gran en un conjunt de dades gran.\n",
    "\n",
    "En el _notebook_ `Gat i gos transfer` conté un exemple de com podem realitzar aquest procés usant la\n",
    "xarxa `ResNet50` [enllaç](https://viso.ai/deep-learning/resnet-residual-neural-network/) com a extractor de\n",
    "característiques ja entrenat.\n",
    "\n",
    "## Pràctica 2\n",
    "\n",
    "Aquesta segona pràctica consistirà a treballar sobre la xarxa U-Net que heu treballat a les classes d\n",
    "de teoría. En concret es proporcionarà el codi per obtenir imatges del dataset XXXXXXX i per altra banda el\n",
    "codificador de la Xarxa.\n",
    "\n",
    "_Es demana que:_\n",
    "\n",
    "1. Implementeu el decodificador de la xarxa.\n",
    "2. Realitzeu la definició del compilador adient.\n",
    "3. L'entreneu amb una de les categories del dataset.\n",
    "\n",
    "*Recursos*:\n",
    "\n",
    "Trobareu una carpeta anomenada _P2_ on hi ha un notebook amb el codificador dins una funció i\n",
    "la carrega de dades.\n",
    "\n",
    "\n",
    "*Entrega*:\n",
    "\n",
    "L'entrega d'aquesta pràctica es realitzarà el mateix dia de l'examen. El format d'entrega serà un\n",
    "pdf generat a partir del notebook en el qual heu realitzat la feina amb els comentaris necessaris per\n",
    "explicar la vostra feina i els resultats obtinguts.\n",
    "\n",
    "\n"
   ]
  }
 ],
 "metadata": {
  "kernelspec": {
   "display_name": "Python 3",
   "language": "python",
   "name": "python3"
  },
  "language_info": {
   "codemirror_mode": {
    "name": "ipython",
    "version": 2
   },
   "file_extension": ".py",
   "mimetype": "text/x-python",
   "name": "python",
   "nbconvert_exporter": "python",
   "pygments_lexer": "ipython2",
   "version": "2.7.6"
  }
 },
 "nbformat": 4,
 "nbformat_minor": 0
}